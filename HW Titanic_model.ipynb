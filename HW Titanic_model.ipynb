{
 "cells":[
  {
   "cell_type":"markdown",
   "source":[
    "# Titanic Model Evaluation\n",
    "By: Arhym\n",
    "\n",
    "Last update: Oct 14, 2022"
   ],
   "attachments":{
    
   },
   "metadata":{
    "datalore":{
     "node_id":"G4fTe8uLH2BmIYuZhXgy8o",
     "type":"MD",
     "hide_input_from_viewers":false,
     "hide_output_from_viewers":false,
     "report_properties":{
      "y":0
     }
    }
   }
  },
  {
   "cell_type":"code",
   "source":[
    "install.packages(\"titanic\")\n",
    "library(titanic)\n",
    "library(tidyverse)\n",
    "library(dplyr)"
   ],
   "execution_count":2,
   "outputs":[
    {
     "name":"stderr",
     "text":[
      "Updating HTML index of packages in '.Library'\n",
      "\n",
      "Making 'packages.html' ...\n",
      " done\n",
      "\n",
      "Warning message in system(\"timedatectl\", intern = TRUE):\n",
      "“running command 'timedatectl' had status 1”\n",
      "Warning message:\n",
      "“Failed to locate timezone database”\n",
      "── \u001b[1mAttaching packages\u001b[22m ─────────────────────────────────────── tidyverse 1.3.1 ──\n",
      "\n",
      "\u001b[32m✔\u001b[39m \u001b[34mggplot2\u001b[39m 3.3.5     \u001b[32m✔\u001b[39m \u001b[34mpurrr  \u001b[39m 0.3.4\n",
      "\u001b[32m✔\u001b[39m \u001b[34mtibble \u001b[39m 3.1.5     \u001b[32m✔\u001b[39m \u001b[34mdplyr  \u001b[39m 1.0.7\n",
      "\u001b[32m✔\u001b[39m \u001b[34mtidyr  \u001b[39m 1.1.4     \u001b[32m✔\u001b[39m \u001b[34mstringr\u001b[39m 1.4.0\n",
      "\u001b[32m✔\u001b[39m \u001b[34mreadr  \u001b[39m 2.0.2     \u001b[32m✔\u001b[39m \u001b[34mforcats\u001b[39m 0.5.1\n",
      "\n",
      "── \u001b[1mConflicts\u001b[22m ────────────────────────────────────────── tidyverse_conflicts() ──\n",
      "\u001b[31m✖\u001b[39m \u001b[34mdplyr\u001b[39m::\u001b[32mfilter()\u001b[39m  masks \u001b[34mstats\u001b[39m::filter()\n",
      "\u001b[31m✖\u001b[39m \u001b[34mpurrr\u001b[39m::\u001b[32mflatten()\u001b[39m masks \u001b[34mjsonlite\u001b[39m::flatten()\n",
      "\u001b[31m✖\u001b[39m \u001b[34mdplyr\u001b[39m::\u001b[32mlag()\u001b[39m     masks \u001b[34mstats\u001b[39m::lag()\n",
      "\n"
     ],
     "output_type":"stream"
    }
   ],
   "metadata":{
    "datalore":{
     "node_id":"REIAtOxmPbNOUOtrhLKumQ",
     "type":"CODE",
     "hide_input_from_viewers":false,
     "hide_output_from_viewers":true,
     "report_properties":{
      "y":5
     }
    }
   }
  },
  {
   "cell_type":"code",
   "source":[
    "## prep data ##\n",
    "glimpse(Titanic)\n",
    "glimpse(titanic_train)\n",
    "\n",
    "# remove NA\n",
    "titanic_train <- na.omit(titanic_train)\n",
    "\n",
    "# change data type\n",
    "titanic_train$Survived <- factor(titanic_train$Survived,\n",
    "                                 levels = c(0,1),\n",
    "                                 labels = c(\"Died\", \"Survived\"))\n",
    "class(titanic_train$Survived)\n",
    "table(titanic_train$Survived)\n",
    "\n",
    "titanic_train$Pclass <- factor(titanic_train$Pclass,\n",
    "                               levels = c(1,2,3))\n",
    "class(titanic_train$Pclass)\n",
    "table(titanic_train$Pclass)\n",
    "\n",
    "titanic_train$Sex <- factor(titanic_train$Sex,\n",
    "                            levels = c(\"male\",\"female\"))\n",
    "class(titanic_train$Sex)\n",
    "table(titanic_train$Sex)"
   ],
   "execution_count":15,
   "outputs":[
    {
     "name":"stdout",
     "text":[
      " 'table' num [1:4, 1:2, 1:2, 1:2] 0 0 35 0 0 0 17 0 118 154 ...\n",
      " - attr(*, \"dimnames\")=List of 4\n",
      "  ..$ Class   : chr [1:4] \"1st\" \"2nd\" \"3rd\" \"Crew\"\n",
      "  ..$ Sex     : chr [1:2] \"Male\" \"Female\"\n",
      "  ..$ Age     : chr [1:2] \"Child\" \"Adult\"\n",
      "  ..$ Survived: chr [1:2] \"No\" \"Yes\"\n",
      "Rows: 714\n",
      "Columns: 12\n",
      "$ PassengerId \u001b[3m\u001b[90m<int>\u001b[39m\u001b[23m 1, 2, 3, 4, 5, 7, 8, 9, 10, 11, 12, 13, 14, 15, 16, 17, 19…\n",
      "$ Survived    \u001b[3m\u001b[90m<fct>\u001b[39m\u001b[23m Died, Survived, Survived, Survived, Died, Died, Died, Surv…\n",
      "$ Pclass      \u001b[3m\u001b[90m<fct>\u001b[39m\u001b[23m 3, 1, 3, 1, 3, 1, 3, 3, 2, 3, 1, 3, 3, 3, 2, 3, 3, 2, 2, 3…\n",
      "$ Name        \u001b[3m\u001b[90m<chr>\u001b[39m\u001b[23m \"Braund, Mr. Owen Harris\", \"Cumings, Mrs. John Bradley (Fl…\n",
      "$ Sex         \u001b[3m\u001b[90m<fct>\u001b[39m\u001b[23m male, female, female, female, male, male, male, female, fe…\n",
      "$ Age         \u001b[3m\u001b[90m<dbl>\u001b[39m\u001b[23m 22, 38, 26, 35, 35, 54, 2, 27, 14, 4, 58, 20, 39, 14, 55, …\n",
      "$ SibSp       \u001b[3m\u001b[90m<int>\u001b[39m\u001b[23m 1, 1, 0, 1, 0, 0, 3, 0, 1, 1, 0, 0, 1, 0, 0, 4, 1, 0, 0, 0…\n",
      "$ Parch       \u001b[3m\u001b[90m<int>\u001b[39m\u001b[23m 0, 0, 0, 0, 0, 0, 1, 2, 0, 1, 0, 0, 5, 0, 0, 1, 0, 0, 0, 0…\n",
      "$ Ticket      \u001b[3m\u001b[90m<chr>\u001b[39m\u001b[23m \"A\/5 21171\", \"PC 17599\", \"STON\/O2. 3101282\", \"113803\", \"37…\n",
      "$ Fare        \u001b[3m\u001b[90m<dbl>\u001b[39m\u001b[23m 7.2500, 71.2833, 7.9250, 53.1000, 8.0500, 51.8625, 21.0750…\n",
      "$ Cabin       \u001b[3m\u001b[90m<chr>\u001b[39m\u001b[23m \"\", \"C85\", \"\", \"C123\", \"\", \"E46\", \"\", \"\", \"\", \"G6\", \"C103\"…\n",
      "$ Embarked    \u001b[3m\u001b[90m<chr>\u001b[39m\u001b[23m \"S\", \"C\", \"S\", \"S\", \"S\", \"S\", \"S\", \"S\", \"C\", \"S\", \"S\", \"S\"…\n"
     ],
     "output_type":"stream"
    },
    {
     "data":{
      "text\/html":[
       "'factor'"
      ]
     },
     "metadata":{
      
     },
     "output_type":"display_data"
    },
    {
     "data":{
      "text\/plain":[
       "\n",
       "    Died Survived \n",
       "       0        0 "
      ]
     },
     "metadata":{
      
     },
     "output_type":"display_data"
    },
    {
     "data":{
      "text\/html":[
       "'factor'"
      ]
     },
     "metadata":{
      
     },
     "output_type":"display_data"
    },
    {
     "data":{
      "text\/plain":[
       "\n",
       "  1   2   3 \n",
       "186 173 355 "
      ]
     },
     "metadata":{
      
     },
     "output_type":"display_data"
    },
    {
     "data":{
      "text\/html":[
       "'factor'"
      ]
     },
     "metadata":{
      
     },
     "output_type":"display_data"
    },
    {
     "data":{
      "text\/plain":[
       "\n",
       "  male female \n",
       "   453    261 "
      ]
     },
     "metadata":{
      
     },
     "output_type":"display_data"
    }
   ],
   "metadata":{
    "datalore":{
     "node_id":"BM8MMMRkrqCksUmWISFx66",
     "type":"CODE",
     "hide_input_from_viewers":false,
     "hide_output_from_viewers":false,
     "report_properties":{
      "y":9
     }
    }
   }
  },
  {
   "cell_type":"code",
   "source":[
    "## visualize\n",
    "titanic_train %>%\n",
    "  count(Pclass,Survived)\n",
    "ggplot(titanic_train, aes(Pclass, fill = Survived)) + geom_bar() + theme_minimal()"
   ],
   "execution_count":4,
   "outputs":[
    {
     "data":{
      "text\/html":[
       "<table class=\"dataframe\">\n",
       "<caption>A data.frame: 6 × 3<\/caption>\n",
       "<thead>\n",
       "\t<tr><th scope=col>Pclass<\/th><th scope=col>Survived<\/th><th scope=col>n<\/th><\/tr>\n",
       "\t<tr><th scope=col>&lt;fct&gt;<\/th><th scope=col>&lt;fct&gt;<\/th><th scope=col>&lt;int&gt;<\/th><\/tr>\n",
       "<\/thead>\n",
       "<tbody>\n",
       "\t<tr><td>1<\/td><td>Died    <\/td><td> 64<\/td><\/tr>\n",
       "\t<tr><td>1<\/td><td>Survived<\/td><td>122<\/td><\/tr>\n",
       "\t<tr><td>2<\/td><td>Died    <\/td><td> 90<\/td><\/tr>\n",
       "\t<tr><td>2<\/td><td>Survived<\/td><td> 83<\/td><\/tr>\n",
       "\t<tr><td>3<\/td><td>Died    <\/td><td>270<\/td><\/tr>\n",
       "\t<tr><td>3<\/td><td>Survived<\/td><td> 85<\/td><\/tr>\n",
       "<\/tbody>\n",
       "<\/table>\n"
      ]
     },
     "metadata":{
      
     },
     "output_type":"display_data"
    },
    {
     "data":{
      "image\/png":"[encoded data removed]"
     },
     "metadata":{
      "image\/png":{
       "width":420,
       "height":420
      }
     },
     "output_type":"display_data"
    }
   ],
   "metadata":{
    "datalore":{
     "node_id":"zCFVYo8xyNBTBc1WmTWgYx",
     "type":"CODE",
     "hide_input_from_viewers":false,
     "hide_output_from_viewers":false,
     "report_properties":{
      "y":40
     }
    }
   }
  },
  {
   "cell_type":"code",
   "source":[
    "## visualize\n",
    "titanic_train %>%\n",
    "    count(Sex,Survived)\n",
    "ggplot(titanic_train, aes(Sex, fill = Survived)) + geom_bar() + theme_minimal()"
   ],
   "execution_count":5,
   "outputs":[
    {
     "data":{
      "text\/html":[
       "<table class=\"dataframe\">\n",
       "<caption>A data.frame: 4 × 3<\/caption>\n",
       "<thead>\n",
       "\t<tr><th scope=col>Sex<\/th><th scope=col>Survived<\/th><th scope=col>n<\/th><\/tr>\n",
       "\t<tr><th scope=col>&lt;fct&gt;<\/th><th scope=col>&lt;fct&gt;<\/th><th scope=col>&lt;int&gt;<\/th><\/tr>\n",
       "<\/thead>\n",
       "<tbody>\n",
       "\t<tr><td>male  <\/td><td>Died    <\/td><td>360<\/td><\/tr>\n",
       "\t<tr><td>male  <\/td><td>Survived<\/td><td> 93<\/td><\/tr>\n",
       "\t<tr><td>female<\/td><td>Died    <\/td><td> 64<\/td><\/tr>\n",
       "\t<tr><td>female<\/td><td>Survived<\/td><td>197<\/td><\/tr>\n",
       "<\/tbody>\n",
       "<\/table>\n"
      ]
     },
     "metadata":{
      
     },
     "output_type":"display_data"
    },
    {
     "data":{
      "image\/png":"[encoded data removed]"
     },
     "metadata":{
      "image\/png":{
       "width":420,
       "height":420
      }
     },
     "output_type":"display_data"
    }
   ],
   "metadata":{
    "datalore":{
     "node_id":"5z83xQSyO69JWR2QDd4fuq",
     "type":"CODE",
     "hide_input_from_viewers":false,
     "hide_output_from_viewers":false,
     "report_properties":{
      "y":63
     }
    }
   }
  },
  {
   "cell_type":"code",
   "source":[
    "## split data\n",
    "n <- nrow(titanic_train)\n",
    "set.seed(89)\n",
    "id <- sample(1:n, size = n*0.7) #train70:test30\n",
    "train_data <- titanic_train[id, ]\n",
    "test_data <- titanic_train[-id, ]"
   ],
   "execution_count":6,
   "outputs":[
    
   ],
   "metadata":{
    "datalore":{
     "node_id":"CTODKhAe42Bbbaz7XIWqF1",
     "type":"CODE",
     "hide_input_from_viewers":false,
     "hide_output_from_viewers":false,
     "report_properties":{
      "y":85
     }
    }
   }
  },
  {
   "cell_type":"markdown",
   "source":[
    "### Train Model"
   ],
   "attachments":{
    
   },
   "metadata":{
    "datalore":{
     "node_id":"cWlFFdM2cqUPQELz6UjdH0",
     "type":"MD",
     "hide_input_from_viewers":false,
     "hide_output_from_viewers":false,
     "report_properties":{
      "y":90
     }
    }
   }
  },
  {
   "cell_type":"code",
   "source":[
    "## fit logistic regression\n",
    "logistreg_model <- glm(Survived ~ Pclass + Sex + Age + Cabin, data = train_data, family = \"binomial\")\n",
    "#summary(logistreg_model)\n",
    "\n",
    "## train model\n",
    "predict_train <- predict(logistreg_model, type = \"response\") #probability\n",
    "train_data$predicted <- if_else(predict_train <= 0.5, \"Died\", \"Survived\")\n",
    "train_data$accuracy <- if_else(train_data$Survived == train_data$predicted, \"Accurate\", \"Inaccurate\")\n",
    "cat(\"Mean:\",mean(train_data$Survived == train_data$predicted))\n",
    "\n",
    "##visualize\n",
    "train_data %>% count(accuracy)\n",
    "ggplot(train_data, aes(predicted, fill = accuracy)) + geom_bar() + theme_minimal()"
   ],
   "execution_count":7,
   "outputs":[
    {
     "name":"stdout",
     "text":[
      "Mean: 0.8416834"
     ],
     "output_type":"stream"
    },
    {
     "data":{
      "text\/html":[
       "<table class=\"dataframe\">\n",
       "<caption>A data.frame: 2 × 2<\/caption>\n",
       "<thead>\n",
       "\t<tr><th scope=col>accuracy<\/th><th scope=col>n<\/th><\/tr>\n",
       "\t<tr><th scope=col>&lt;chr&gt;<\/th><th scope=col>&lt;int&gt;<\/th><\/tr>\n",
       "<\/thead>\n",
       "<tbody>\n",
       "\t<tr><td>Accurate  <\/td><td>420<\/td><\/tr>\n",
       "\t<tr><td>Inaccurate<\/td><td> 79<\/td><\/tr>\n",
       "<\/tbody>\n",
       "<\/table>\n"
      ]
     },
     "metadata":{
      
     },
     "output_type":"display_data"
    },
    {
     "data":{
      "image\/png":"[encoded data removed]"
     },
     "metadata":{
      "image\/png":{
       "width":420,
       "height":420
      }
     },
     "output_type":"display_data"
    }
   ],
   "metadata":{
    "datalore":{
     "node_id":"kzbGcKgka93UxS4bIB8xaB",
     "type":"CODE",
     "hide_input_from_viewers":false,
     "hide_output_from_viewers":false,
     "report_properties":{
      "y":93
     }
    }
   }
  },
  {
   "cell_type":"markdown",
   "source":[
    "### Test Model"
   ],
   "attachments":{
    
   },
   "metadata":{
    "datalore":{
     "node_id":"g7W7TCCki2hMwmYzVgfr2L",
     "type":"MD",
     "hide_input_from_viewers":false,
     "hide_output_from_viewers":false,
     "report_properties":{
      "y":119
     }
    }
   }
  },
  {
   "cell_type":"code",
   "source":[
    "## test model\n",
    "logistreg_modeltest <- glm(Survived ~ Pclass + Sex + Age + Cabin, data = test_data, family = \"binomial\")\n",
    "predict_test <- predict(logistreg_modeltest, type = \"response\") #probability\n",
    "test_data$predicted <- if_else(predict_test <= 0.5, \"Died\", \"Survived\")\n",
    "test_data$accuracy <- if_else(test_data$Survived == test_data$predicted, \"Accurate\", \"Inaccurate\")\n",
    "cat(\"Mean:\", mean(test_data$Survived == test_data$predicted))\n",
    "\n",
    "##visualize\n",
    "test_data %>% count(accuracy)\n",
    "ggplot(test_data, aes(predicted, fill = accuracy)) + geom_bar() + theme_minimal()"
   ],
   "execution_count":8,
   "outputs":[
    {
     "name":"stdout",
     "text":[
      "Mean: 0.8930233"
     ],
     "output_type":"stream"
    },
    {
     "data":{
      "text\/html":[
       "<table class=\"dataframe\">\n",
       "<caption>A data.frame: 2 × 2<\/caption>\n",
       "<thead>\n",
       "\t<tr><th scope=col>accuracy<\/th><th scope=col>n<\/th><\/tr>\n",
       "\t<tr><th scope=col>&lt;chr&gt;<\/th><th scope=col>&lt;int&gt;<\/th><\/tr>\n",
       "<\/thead>\n",
       "<tbody>\n",
       "\t<tr><td>Accurate  <\/td><td>192<\/td><\/tr>\n",
       "\t<tr><td>Inaccurate<\/td><td> 23<\/td><\/tr>\n",
       "<\/tbody>\n",
       "<\/table>\n"
      ]
     },
     "metadata":{
      
     },
     "output_type":"display_data"
    },
    {
     "data":{
      "image\/png":"[encoded data removed]"
     },
     "metadata":{
      "image\/png":{
       "width":420,
       "height":420
      }
     },
     "output_type":"display_data"
    }
   ],
   "metadata":{
    "datalore":{
     "node_id":"fVPus1MiOWrb8jbqVdis2E",
     "type":"CODE",
     "hide_input_from_viewers":false,
     "hide_output_from_viewers":false,
     "report_properties":{
      "y":122
     }
    }
   }
  },
  {
   "cell_type":"code",
   "source":[
    "## mean train vs mean test \n",
    "  cat(\"Mean_train:\", mean(train_data$Survived == train_data$predicted),\n",
    "      \"\\nMean_test:\", mean(test_data$Survived == test_data$predicted))"
   ],
   "execution_count":9,
   "outputs":[
    {
     "name":"stdout",
     "text":[
      "Mean_train: 0.8416834 \n",
      "Mean_test: 0.8930233"
     ],
     "output_type":"stream"
    }
   ],
   "metadata":{
    "datalore":{
     "node_id":"NP7Q0sxi49XhqQzqmfLCh9",
     "type":"CODE",
     "hide_input_from_viewers":false,
     "hide_output_from_viewers":false,
     "report_properties":{
      "y":146
     }
    }
   }
  },
  {
   "cell_type":"markdown",
   "source":[
    "### Model Evaluation"
   ],
   "attachments":{
    
   },
   "metadata":{
    "datalore":{
     "node_id":"6F2eOqi2Iekm2cSjt3yiZs",
     "type":"MD",
     "hide_input_from_viewers":false,
     "hide_output_from_viewers":false,
     "report_properties":{
      "y":152
     }
    }
   }
  },
  {
   "cell_type":"code",
   "source":[
    "## train model evaluation\n",
    "conmat_tr <- table(train_data$predicted, train_data$Survived,\n",
    "                  dnn= c(\"Predicted\", \"Actual\"))\n",
    "conmat_tr"
   ],
   "execution_count":10,
   "outputs":[
    {
     "data":{
      "text\/html":[
       "<pre>          Actual\n",
       "Predicted  Died Survived\n",
       "  Died      261       45\n",
       "  Survived   34      159<\/pre>"
      ]
     },
     "metadata":{
      
     },
     "output_type":"display_data"
    }
   ],
   "metadata":{
    "datalore":{
     "node_id":"34Y1JLRvVv1khAAmA7fTpO",
     "type":"CODE",
     "hide_input_from_viewers":false,
     "hide_output_from_viewers":false,
     "report_properties":{
      "y":155
     }
    }
   }
  },
  {
   "cell_type":"code",
   "source":[
    "\n",
    "cat(\"Train Accuracy:\", (conmat_tr[[1,1]] + conmat_tr[[2,2]]) \/ sum(conmat_tr),\n",
    "    \"\\nTrain Precision:\",conmat_tr[[2,2]] \/ (conmat_tr[[2,2]] + conmat_tr[[2,1]]),\n",
    "    \"\\nTrain Recall:\",conmat_tr[[2,2]] \/ (conmat_tr[[2,2]] + conmat_tr[[1,2]]),\n",
    "    \"\\nTrain F1 Score:\", 2 * ((0.8238342 * 0.7794118) \/ (0.8238342 + 0.7794118)))"
   ],
   "execution_count":11,
   "outputs":[
    {
     "name":"stdout",
     "text":[
      "Train Accuracy: 0.8416834 \n",
      "Train Precision: 0.8238342 \n",
      "Train Recall: 0.7794118 \n",
      "Train F1 Score: 0.8010076"
     ],
     "output_type":"stream"
    }
   ],
   "metadata":{
    "datalore":{
     "node_id":"7uRTl2Mpa0ZipAb7CZBf1g",
     "type":"CODE",
     "hide_input_from_viewers":false,
     "hide_output_from_viewers":false,
     "report_properties":{
      "y":163
     }
    }
   }
  },
  {
   "cell_type":"code",
   "source":[
    "## test model evaluation\n",
    "conmat_ts <- table(test_data$predicted, test_data$Survived,\n",
    "                   dnn= c(\"Predicted\", \"Actual\"))\n",
    "conmat_ts"
   ],
   "execution_count":12,
   "outputs":[
    {
     "data":{
      "text\/html":[
       "<pre>          Actual\n",
       "Predicted  Died Survived\n",
       "  Died      119       13\n",
       "  Survived   10       73<\/pre>"
      ]
     },
     "metadata":{
      
     },
     "output_type":"display_data"
    }
   ],
   "metadata":{
    "datalore":{
     "node_id":"nxdStFIp4MBbivIQoBWlt2",
     "type":"CODE",
     "hide_input_from_viewers":false,
     "hide_output_from_viewers":false,
     "report_properties":{
      "y":171
     }
    }
   }
  },
  {
   "cell_type":"code",
   "source":[
    "cat(\"Test Accuracy:\", (conmat_ts[[1,1]] + conmat_ts[[2,2]]) \/ sum(conmat_ts),\n",
    "    \"\\nTest Precision:\",conmat_ts[[2,2]] \/ (conmat_ts[[2,2]] + conmat_ts[[2,1]]),\n",
    "    \"\\nTest Recall:\",conmat_ts[[2,2]] \/ (conmat_ts[[2,2]] + conmat_ts[[1,2]]),\n",
    "    \"\\nTest F1 Score:\", 2 * ((0.8795181 * 0.8488372) \/ (0.8795181 + 0.8488372)))"
   ],
   "execution_count":13,
   "outputs":[
    {
     "name":"stdout",
     "text":[
      "Test Accuracy: 0.8930233 \n",
      "Test Precision: 0.8795181 \n",
      "Test Recall: 0.8488372 \n",
      "Test F1 Score: 0.8639053"
     ],
     "output_type":"stream"
    }
   ],
   "metadata":{
    "datalore":{
     "node_id":"rCpk0zSExsoSupnMb6CPbP",
     "type":"CODE",
     "hide_input_from_viewers":false,
     "hide_output_from_viewers":false,
     "report_properties":{
      "y":179
     }
    }
   }
  },
  {
   "cell_type":"markdown",
   "source":[
    "### Summary"
   ],
   "attachments":{
    
   },
   "metadata":{
    "datalore":{
     "node_id":"fJpfFqzqS7VczhosGyqoOH",
     "type":"MD",
     "hide_input_from_viewers":false,
     "hide_output_from_viewers":false,
     "report_properties":{
      "y":187
     }
    }
   }
  },
  {
   "cell_type":"code",
   "source":[
    "## summary\n",
    "Train <- data.frame(Model = \"Train\", Mean = 0.8416834, Accuracy = 0.8416834, Precision = 0.8238342, Recall = 0.7794118,F1Score = 0.8010076)\n",
    "Test <- data.frame(Model = \"Test\", Mean = 0.8930233, Accuracy = 0.8930233, Precision = 0.8795181, Recall = 0.8488372 , F1Score = 0.8639053)\n",
    "tibble(summary <- bind_rows(Train,Test))"
   ],
   "execution_count":14,
   "outputs":[
    {
     "data":{
      "text\/html":[
       "<table class=\"dataframe\">\n",
       "<caption>A tibble: 2 × 6<\/caption>\n",
       "<thead>\n",
       "\t<tr><th scope=col>Model<\/th><th scope=col>Mean<\/th><th scope=col>Accuracy<\/th><th scope=col>Precision<\/th><th scope=col>Recall<\/th><th scope=col>F1Score<\/th><\/tr>\n",
       "\t<tr><th scope=col>&lt;chr&gt;<\/th><th scope=col>&lt;dbl&gt;<\/th><th scope=col>&lt;dbl&gt;<\/th><th scope=col>&lt;dbl&gt;<\/th><th scope=col>&lt;dbl&gt;<\/th><th scope=col>&lt;dbl&gt;<\/th><\/tr>\n",
       "<\/thead>\n",
       "<tbody>\n",
       "\t<tr><td>Train<\/td><td>0.8416834<\/td><td>0.8416834<\/td><td>0.8238342<\/td><td>0.7794118<\/td><td>0.8010076<\/td><\/tr>\n",
       "\t<tr><td>Test <\/td><td>0.8930233<\/td><td>0.8930233<\/td><td>0.8795181<\/td><td>0.8488372<\/td><td>0.8639053<\/td><\/tr>\n",
       "<\/tbody>\n",
       "<\/table>\n"
      ]
     },
     "metadata":{
      
     },
     "output_type":"display_data"
    }
   ],
   "metadata":{
    "datalore":{
     "node_id":"VcqEtqn8M4asqqwQh8W32s",
     "type":"CODE",
     "hide_input_from_viewers":false,
     "hide_output_from_viewers":false,
     "report_properties":{
      "y":190
     }
    }
   }
  }
 ],
 "metadata":{
  "kernelspec":{
   "display_name":"R",
   "language":"r",
   "name":"ir"
  },
  "datalore":{
   "version":1,
   "computation_mode":"JUPYTER",
   "package_manager":"conda",
   "base_environment":"minimal",
   "packages":[
    
   ]
  }
 },
 "nbformat":4,
 "nbformat_minor":4
}