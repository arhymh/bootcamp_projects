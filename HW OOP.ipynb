{
 "cells":[
  {
   "cell_type":"markdown",
   "source":[
    "# ATM\n",
    "By: Arhym\n",
    "\n",
    "Last update: Dec 26, 2022"
   ],
   "attachments":{
    
   },
   "metadata":{
    "datalore":{
     "node_id":"3nJdCy62ZYKaimd1b6fhta",
     "type":"MD",
     "hide_input_from_viewers":false,
     "hide_output_from_viewers":false,
     "report_properties":{
      "y":0
     }
    }
   }
  },
  {
   "cell_type":"code",
   "source":[
    "# time-stamp for each action\n",
    "from datetime import datetime\n",
    "nowraw = datetime.now()\n",
    "now = nowraw.strftime(\"%Y-%m-%d %H:%M:%S\")\n",
    "print(now)"
   ],
   "execution_count":3,
   "outputs":[
    {
     "name":"stdout",
     "text":[
      "2022-12-27 09:19:15\n"
     ],
     "output_type":"stream"
    }
   ],
   "metadata":{
    "datalore":{
     "node_id":"jVLjjh2NFK0YgrZ0wT2Im6",
     "type":"CODE",
     "hide_input_from_viewers":false,
     "hide_output_from_viewers":false,
     "report_properties":{
      "y":5
     }
    }
   }
  },
  {
   "cell_type":"code",
   "source":[
    "# class and method\n",
    "class ATM:\n",
    "    def __init__(self, bank, num, name, balance):\n",
    "        self.bank = bank\n",
    "        self.num = num\n",
    "        self.name = name\n",
    "        self.balance = balance\n",
    "    \n",
    "    def info(self):\n",
    "        data = f\"Bank: {self.bank} \\nAccount number: {self.num} \\nAccount name: {self.name}\"\n",
    "        print(data)\n",
    "    \n",
    "    def check(self):\n",
    "        message = f\"Account number: {self.num} \\nAccount name: {self.name} \\nBalance: {self.balance}\"\n",
    "        print(message)\n",
    "        print(now)\n",
    "\n",
    "    def deposit(self, money):\n",
    "        self.balance += money\n",
    "        print(f\"Success! \\nNew balance: {self.balance}\")\n",
    "        print(now)\n",
    "\n",
    "    def withdraw(self, out_money):\n",
    "        self.balance += -out_money\n",
    "        print(\"Success!\")\n",
    "        print(f\"New balance: {self.balance}\")\n",
    "        print(now)\n",
    "\n",
    "    def transfer(self, out_money):\n",
    "        self.balance += -out_money\n",
    "        print(f\"Successfully transfered to\")\n",
    "        you.info()\n",
    "        print(f\"Transfered amount: \", out_money)\n",
    "        print(f\"------------------ \\nYour New balance: {self.balance}\")\n",
    "        print(now)"
   ],
   "execution_count":4,
   "outputs":[
    
   ],
   "metadata":{
    "datalore":{
     "node_id":"C3FWkrW8Qa3XPxxqUoBDgY",
     "type":"CODE",
     "hide_input_from_viewers":false,
     "hide_output_from_viewers":false,
     "report_properties":{
      "y":12
     }
    }
   }
  },
  {
   "cell_type":"code",
   "source":[
    "# account info\n",
    "me = ATM(\"KBANK\", \"212-224-236-2\", \"Me\", 5000)\n",
    "you = ATM(\"SCB\", \"989-765-432-1\", \"You\", 2000 )"
   ],
   "execution_count":5,
   "outputs":[
    
   ],
   "metadata":{
    "datalore":{
     "node_id":"7B2M7HNcRyw9zDlUuJBH6V",
     "type":"CODE",
     "hide_input_from_viewers":false,
     "hide_output_from_viewers":false,
     "report_properties":{
      "y":31
     }
    }
   }
  },
  {
   "cell_type":"code",
   "source":[
    "# check account info\n",
    "you.info()"
   ],
   "execution_count":6,
   "outputs":[
    {
     "name":"stdout",
     "text":[
      "Bank: SCB \n",
      "Account number: 989-765-432-1 \n",
      "Account name: You\n"
     ],
     "output_type":"stream"
    }
   ],
   "metadata":{
    "datalore":{
     "node_id":"yu65VihxzWMcPDrupVTewa",
     "type":"CODE",
     "hide_input_from_viewers":false,
     "hide_output_from_viewers":false,
     "report_properties":{
      "y":35
     }
    }
   }
  },
  {
   "cell_type":"code",
   "source":[
    "# check account balance\n",
    "me.check()"
   ],
   "execution_count":7,
   "outputs":[
    {
     "name":"stdout",
     "text":[
      "Account number: 212-224-236-2 \n",
      "Account name: Me \n",
      "Balance: 5000\n",
      "2022-12-27 09:19:15\n"
     ],
     "output_type":"stream"
    }
   ],
   "metadata":{
    "datalore":{
     "node_id":"wKJt7fUxGe6q9sbp7oZFuY",
     "type":"CODE",
     "hide_input_from_viewers":false,
     "hide_output_from_viewers":false,
     "report_properties":{
      "y":42
     }
    }
   }
  },
  {
   "cell_type":"code",
   "source":[
    "# deposit to my account\n",
    "me.deposit(1000)"
   ],
   "execution_count":20,
   "outputs":[
    {
     "name":"stdout",
     "text":[
      "Success! \n",
      "New balance: 8000\n",
      "2022-12-27 09:19:15\n"
     ],
     "output_type":"stream"
    }
   ],
   "metadata":{
    "datalore":{
     "node_id":"PObCzdRrmYJp1YF2g9lloS",
     "type":"CODE",
     "hide_input_from_viewers":false,
     "hide_output_from_viewers":false,
     "report_properties":{
      "y":49
     }
    }
   }
  },
  {
   "cell_type":"code",
   "source":[
    "# withdraw from my account\n",
    "me.withdraw(900)"
   ],
   "execution_count":21,
   "outputs":[
    {
     "name":"stdout",
     "text":[
      "Success!\n",
      "New balance: 7100\n",
      "2022-12-27 09:19:15\n"
     ],
     "output_type":"stream"
    }
   ],
   "metadata":{
    "datalore":{
     "node_id":"r0xtPGwpvTquKl9zJgucTH",
     "type":"CODE",
     "hide_input_from_viewers":false,
     "hide_output_from_viewers":false,
     "report_properties":{
      "y":56
     }
    }
   }
  },
  {
   "cell_type":"code",
   "source":[
    "# transfer to your account\n",
    "me.transfer(550)"
   ],
   "execution_count":22,
   "outputs":[
    {
     "name":"stdout",
     "text":[
      "Successfully transfered to\n",
      "Bank: SCB \n",
      "Account number: 989-765-432-1 \n",
      "Account name: You\n",
      "Transfered amount:  550\n",
      "------------------ \n",
      "Your New balance: 6550\n",
      "2022-12-27 09:19:15\n"
     ],
     "output_type":"stream"
    }
   ],
   "metadata":{
    "datalore":{
     "node_id":"4YQyfZeHT6GC0OsAOIR8Uh",
     "type":"CODE",
     "hide_input_from_viewers":false,
     "hide_output_from_viewers":false,
     "report_properties":{
      "y":63
     }
    }
   }
  }
 ],
 "metadata":{
  "kernelspec":{
   "display_name":"Python",
   "language":"python",
   "name":"python"
  },
  "datalore":{
   "version":1,
   "computation_mode":"JUPYTER",
   "package_manager":"pip",
   "base_environment":"default",
   "packages":[
    
   ]
  }
 },
 "nbformat":4,
 "nbformat_minor":4
}